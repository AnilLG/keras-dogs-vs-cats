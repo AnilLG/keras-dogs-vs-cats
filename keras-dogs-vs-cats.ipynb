{
 "cells": [
  {
   "cell_type": "code",
   "execution_count": 1,
   "metadata": {
    "collapsed": false
   },
   "outputs": [
    {
     "name": "stderr",
     "output_type": "stream",
     "text": [
      "Using TensorFlow backend.\n"
     ]
    }
   ],
   "source": [
    "%matplotlib inline\n",
    "import pandas as pd\n",
    "from keras.preprocessing.image import ImageDataGenerator\n",
    "from keras.models import Sequential\n",
    "from keras.layers import Convolution2D, MaxPooling2D, Dropout, Flatten, Dense\n",
    "from keras.callbacks import Callback, ModelCheckpoint"
   ]
  },
  {
   "cell_type": "code",
   "execution_count": 2,
   "metadata": {
    "collapsed": true
   },
   "outputs": [],
   "source": [
    "IMG_WIDTH, IMG_HEIGHT = 150, 150\n",
    "TRAIN_DATA_DIR = 'data/train'\n",
    "VALIDATION_DATA_DIR = 'data/validation'\n",
    "MODEL_WEIGHTS_FILE = 'first_try.h5'\n",
    "NB_TRAIN_SAMPLES = 2000\n",
    "NB_VALIDATION_SAMPLES = 800\n",
    "NB_EPOCH = 50"
   ]
  },
  {
   "cell_type": "code",
   "execution_count": 3,
   "metadata": {
    "collapsed": false
   },
   "outputs": [],
   "source": [
    "model = Sequential()\n",
    "model.add(Convolution2D(32, 3, 3, activation='relu', input_shape=(3, IMG_WIDTH, IMG_HEIGHT)))\n",
    "model.add(MaxPooling2D(pool_size=(2, 2)))\n",
    "model.add(Convolution2D(32, 3, 3, activation='relu'))\n",
    "model.add(MaxPooling2D(pool_size=(2, 2)))\n",
    "model.add(Convolution2D(64, 3, 3, activation='relu'))\n",
    "model.add(MaxPooling2D(pool_size=(2, 2)))\n",
    "model.add(Flatten())\n",
    "model.add(Dense(64, activation='relu'))\n",
    "model.add(Dropout(0.5))\n",
    "model.add(Dense(2, activation='softmax'))"
   ]
  },
  {
   "cell_type": "code",
   "execution_count": 4,
   "metadata": {
    "collapsed": false
   },
   "outputs": [
    {
     "name": "stdout",
     "output_type": "stream",
     "text": [
      "____________________________________________________________________________________________________\n",
      "Layer (type)                     Output Shape          Param #     Connected to                     \n",
      "====================================================================================================\n",
      "convolution2d_1 (Convolution2D)  (None, 32, 148, 148)  896         convolution2d_input_1[0][0]      \n",
      "____________________________________________________________________________________________________\n",
      "maxpooling2d_1 (MaxPooling2D)    (None, 32, 74, 74)    0           convolution2d_1[0][0]            \n",
      "____________________________________________________________________________________________________\n",
      "convolution2d_2 (Convolution2D)  (None, 32, 72, 72)    9248        maxpooling2d_1[0][0]             \n",
      "____________________________________________________________________________________________________\n",
      "maxpooling2d_2 (MaxPooling2D)    (None, 32, 36, 36)    0           convolution2d_2[0][0]            \n",
      "____________________________________________________________________________________________________\n",
      "convolution2d_3 (Convolution2D)  (None, 64, 34, 34)    18496       maxpooling2d_2[0][0]             \n",
      "____________________________________________________________________________________________________\n",
      "maxpooling2d_3 (MaxPooling2D)    (None, 64, 17, 17)    0           convolution2d_3[0][0]            \n",
      "____________________________________________________________________________________________________\n",
      "flatten_1 (Flatten)              (None, 18496)         0           maxpooling2d_3[0][0]             \n",
      "____________________________________________________________________________________________________\n",
      "dense_1 (Dense)                  (None, 64)            1183808     flatten_1[0][0]                  \n",
      "____________________________________________________________________________________________________\n",
      "dropout_1 (Dropout)              (None, 64)            0           dense_1[0][0]                    \n",
      "____________________________________________________________________________________________________\n",
      "dense_2 (Dense)                  (None, 2)             130         dropout_1[0][0]                  \n",
      "====================================================================================================\n",
      "Total params: 1212578\n",
      "____________________________________________________________________________________________________\n"
     ]
    }
   ],
   "source": [
    "model.summary()"
   ]
  },
  {
   "cell_type": "code",
   "execution_count": 5,
   "metadata": {
    "collapsed": true
   },
   "outputs": [],
   "source": [
    "model.compile(loss='categorical_crossentropy',\n",
    "              optimizer='rmsprop',\n",
    "              metrics=['accuracy'])"
   ]
  },
  {
   "cell_type": "code",
   "execution_count": 6,
   "metadata": {
    "collapsed": true
   },
   "outputs": [],
   "source": [
    "# this is the augmentation configuration we will use for training\n",
    "train_datagen = ImageDataGenerator(\n",
    "        rescale=1./255,\n",
    "        shear_range=0.2,\n",
    "        zoom_range=0.2,\n",
    "        horizontal_flip=True)"
   ]
  },
  {
   "cell_type": "code",
   "execution_count": 7,
   "metadata": {
    "collapsed": true
   },
   "outputs": [],
   "source": [
    "test_datagen = ImageDataGenerator(rescale=1./255)"
   ]
  },
  {
   "cell_type": "code",
   "execution_count": 8,
   "metadata": {
    "collapsed": false
   },
   "outputs": [
    {
     "name": "stdout",
     "output_type": "stream",
     "text": [
      "Found 2000 images belonging to 2 classes.\n"
     ]
    }
   ],
   "source": [
    "train_generator = train_datagen.flow_from_directory(\n",
    "        TRAIN_DATA_DIR,\n",
    "        target_size=(IMG_WIDTH, IMG_HEIGHT),\n",
    "        batch_size=32,\n",
    "        class_mode='categorical')"
   ]
  },
  {
   "cell_type": "code",
   "execution_count": 9,
   "metadata": {
    "collapsed": false
   },
   "outputs": [
    {
     "name": "stdout",
     "output_type": "stream",
     "text": [
      "Found 802 images belonging to 2 classes.\n"
     ]
    }
   ],
   "source": [
    "validation_generator = test_datagen.flow_from_directory(\n",
    "        VALIDATION_DATA_DIR,\n",
    "        target_size=(IMG_WIDTH, IMG_HEIGHT),\n",
    "        batch_size=32,\n",
    "        class_mode='categorical')"
   ]
  },
  {
   "cell_type": "code",
   "execution_count": 10,
   "metadata": {
    "collapsed": false,
    "scrolled": false
   },
   "outputs": [
    {
     "name": "stdout",
     "output_type": "stream",
     "text": [
      "Epoch 1/50\n",
      "2000/2000 [==============================] - 63s - loss: 0.8020 - acc: 0.5090 - val_loss: 0.6927 - val_acc: 0.5000\n",
      "Epoch 2/50\n",
      "2000/2000 [==============================] - 21s - loss: 0.6993 - acc: 0.5370 - val_loss: 0.6903 - val_acc: 0.5150\n",
      "Epoch 3/50\n",
      "2000/2000 [==============================] - 21s - loss: 0.6710 - acc: 0.6085 - val_loss: 0.6301 - val_acc: 0.6197\n",
      "Epoch 4/50\n",
      "2000/2000 [==============================] - 21s - loss: 0.6419 - acc: 0.6435 - val_loss: 0.6117 - val_acc: 0.6596\n",
      "Epoch 5/50\n",
      "2000/2000 [==============================] - 21s - loss: 0.6133 - acc: 0.6890 - val_loss: 0.5789 - val_acc: 0.6933\n",
      "Epoch 6/50\n",
      "2000/2000 [==============================] - 21s - loss: 0.5982 - acc: 0.6960 - val_loss: 0.5694 - val_acc: 0.6820\n",
      "Epoch 7/50\n",
      "2000/2000 [==============================] - 21s - loss: 0.5657 - acc: 0.7200 - val_loss: 0.5879 - val_acc: 0.6746\n",
      "Epoch 8/50\n",
      "2000/2000 [==============================] - 21s - loss: 0.5686 - acc: 0.7060 - val_loss: 0.5828 - val_acc: 0.6933\n",
      "Epoch 9/50\n",
      "2000/2000 [==============================] - 22s - loss: 0.5569 - acc: 0.7220 - val_loss: 0.5528 - val_acc: 0.7269\n",
      "Epoch 10/50\n",
      "2000/2000 [==============================] - 21s - loss: 0.5408 - acc: 0.7335 - val_loss: 0.5040 - val_acc: 0.7506\n",
      "Epoch 11/50\n",
      "2000/2000 [==============================] - 21s - loss: 0.5474 - acc: 0.7390 - val_loss: 0.5704 - val_acc: 0.7120\n",
      "Epoch 12/50\n",
      "2000/2000 [==============================] - 22s - loss: 0.5061 - acc: 0.7530 - val_loss: 0.5665 - val_acc: 0.7045\n",
      "Epoch 13/50\n",
      "2000/2000 [==============================] - 21s - loss: 0.5121 - acc: 0.7505 - val_loss: 0.5094 - val_acc: 0.7431\n",
      "Epoch 14/50\n",
      "2000/2000 [==============================] - 21s - loss: 0.5150 - acc: 0.7500 - val_loss: 0.5610 - val_acc: 0.6995\n",
      "Epoch 15/50\n",
      "2000/2000 [==============================] - 21s - loss: 0.4968 - acc: 0.7625 - val_loss: 0.5131 - val_acc: 0.7569\n",
      "Epoch 16/50\n",
      "2000/2000 [==============================] - 21s - loss: 0.4811 - acc: 0.7765 - val_loss: 0.5684 - val_acc: 0.7207\n",
      "Epoch 17/50\n",
      "2000/2000 [==============================] - 21s - loss: 0.4890 - acc: 0.7730 - val_loss: 0.4979 - val_acc: 0.7456\n",
      "Epoch 18/50\n",
      "2000/2000 [==============================] - 21s - loss: 0.4815 - acc: 0.7775 - val_loss: 0.4776 - val_acc: 0.7556\n",
      "Epoch 19/50\n",
      "2000/2000 [==============================] - 21s - loss: 0.4489 - acc: 0.7830 - val_loss: 0.4988 - val_acc: 0.7656\n",
      "Epoch 20/50\n",
      "2000/2000 [==============================] - 21s - loss: 0.4595 - acc: 0.7895 - val_loss: 0.5921 - val_acc: 0.7095\n",
      "Epoch 21/50\n",
      "2000/2000 [==============================] - 21s - loss: 0.4396 - acc: 0.7995 - val_loss: 0.5088 - val_acc: 0.7618\n",
      "Epoch 22/50\n",
      "2000/2000 [==============================] - 21s - loss: 0.4501 - acc: 0.7945 - val_loss: 0.5524 - val_acc: 0.7419\n",
      "Epoch 23/50\n",
      "2000/2000 [==============================] - 21s - loss: 0.4574 - acc: 0.7950 - val_loss: 0.5755 - val_acc: 0.7244\n",
      "Epoch 24/50\n",
      "2000/2000 [==============================] - 21s - loss: 0.4446 - acc: 0.8080 - val_loss: 0.4575 - val_acc: 0.7805\n",
      "Epoch 25/50\n",
      "2000/2000 [==============================] - 21s - loss: 0.4421 - acc: 0.7960 - val_loss: 0.5162 - val_acc: 0.7344\n",
      "Epoch 26/50\n",
      "2000/2000 [==============================] - 21s - loss: 0.4366 - acc: 0.8065 - val_loss: 0.5451 - val_acc: 0.7743\n",
      "Epoch 27/50\n",
      "2000/2000 [==============================] - 21s - loss: 0.4144 - acc: 0.8180 - val_loss: 0.5527 - val_acc: 0.7656\n",
      "Epoch 28/50\n",
      "2000/2000 [==============================] - 21s - loss: 0.4222 - acc: 0.8200 - val_loss: 0.5332 - val_acc: 0.7556\n",
      "Epoch 29/50\n",
      "2000/2000 [==============================] - 21s - loss: 0.3943 - acc: 0.8120 - val_loss: 0.5377 - val_acc: 0.7668\n",
      "Epoch 30/50\n",
      "2000/2000 [==============================] - 21s - loss: 0.4190 - acc: 0.8150 - val_loss: 0.4928 - val_acc: 0.7843\n",
      "Epoch 31/50\n",
      "2000/2000 [==============================] - 21s - loss: 0.3990 - acc: 0.8215 - val_loss: 0.5331 - val_acc: 0.7993\n",
      "Epoch 32/50\n",
      "2000/2000 [==============================] - 21s - loss: 0.4023 - acc: 0.8270 - val_loss: 0.5171 - val_acc: 0.7830\n",
      "Epoch 33/50\n",
      "2000/2000 [==============================] - 21s - loss: 0.3889 - acc: 0.8195 - val_loss: 0.5115 - val_acc: 0.7618\n",
      "Epoch 34/50\n",
      "2000/2000 [==============================] - 21s - loss: 0.4018 - acc: 0.8210 - val_loss: 0.6080 - val_acc: 0.7344\n",
      "Epoch 35/50\n",
      "2000/2000 [==============================] - 21s - loss: 0.3909 - acc: 0.8260 - val_loss: 0.5748 - val_acc: 0.7805\n",
      "Epoch 36/50\n",
      "2000/2000 [==============================] - 21s - loss: 0.3964 - acc: 0.8360 - val_loss: 0.5166 - val_acc: 0.7556\n",
      "Epoch 37/50\n",
      "2000/2000 [==============================] - 21s - loss: 0.3704 - acc: 0.8415 - val_loss: 0.4801 - val_acc: 0.7980\n",
      "Epoch 38/50\n",
      "2000/2000 [==============================] - 21s - loss: 0.3978 - acc: 0.8345 - val_loss: 0.6009 - val_acc: 0.7594\n",
      "Epoch 39/50\n",
      "2000/2000 [==============================] - 21s - loss: 0.3953 - acc: 0.8265 - val_loss: 0.5758 - val_acc: 0.7357\n",
      "Epoch 40/50\n",
      "2000/2000 [==============================] - 21s - loss: 0.3747 - acc: 0.8380 - val_loss: 0.4987 - val_acc: 0.7805\n",
      "Epoch 41/50\n",
      "2000/2000 [==============================] - 21s - loss: 0.3781 - acc: 0.8410 - val_loss: 0.7760 - val_acc: 0.7469\n",
      "Epoch 42/50\n",
      "2000/2000 [==============================] - 21s - loss: 0.3758 - acc: 0.8295 - val_loss: 0.4931 - val_acc: 0.7681\n",
      "Epoch 43/50\n",
      "2000/2000 [==============================] - 21s - loss: 0.3750 - acc: 0.8390 - val_loss: 0.6187 - val_acc: 0.7793\n",
      "Epoch 44/50\n",
      "2000/2000 [==============================] - 21s - loss: 0.3533 - acc: 0.8475 - val_loss: 0.5143 - val_acc: 0.8042\n",
      "Epoch 45/50\n",
      "2000/2000 [==============================] - 21s - loss: 0.3772 - acc: 0.8450 - val_loss: 0.5274 - val_acc: 0.7905\n",
      "Epoch 46/50\n",
      "2000/2000 [==============================] - 21s - loss: 0.3655 - acc: 0.8475 - val_loss: 0.4843 - val_acc: 0.7805\n",
      "Epoch 47/50\n",
      "2000/2000 [==============================] - 21s - loss: 0.3675 - acc: 0.8410 - val_loss: 0.5040 - val_acc: 0.7344\n",
      "Epoch 48/50\n",
      "2000/2000 [==============================] - 21s - loss: 0.3628 - acc: 0.8415 - val_loss: 0.5590 - val_acc: 0.8017\n",
      "Epoch 49/50\n",
      "2000/2000 [==============================] - 21s - loss: 0.3659 - acc: 0.8485 - val_loss: 0.5087 - val_acc: 0.7768\n",
      "Epoch 50/50\n",
      "2000/2000 [==============================] - 21s - loss: 0.3584 - acc: 0.8530 - val_loss: 0.4869 - val_acc: 0.7955\n"
     ]
    }
   ],
   "source": [
    "callbacks = [ModelCheckpoint(MODEL_WEIGHTS_FILE, monitor='val_acc', save_best_only=True)]\n",
    "history = model.fit_generator(\n",
    "        train_generator,\n",
    "        callbacks = callbacks,\n",
    "        samples_per_epoch=NB_TRAIN_SAMPLES,\n",
    "        nb_epoch=NB_EPOCH,\n",
    "        validation_data=validation_generator,\n",
    "        nb_val_samples=NB_VALIDATION_SAMPLES)"
   ]
  },
  {
   "cell_type": "code",
   "execution_count": 11,
   "metadata": {
    "collapsed": false
   },
   "outputs": [
    {
     "data": {
      "image/png": "[encoded data removed]",
      "text/plain": [
       "<matplotlib.figure.Figure at 0x7fc814e1f828>"
      ]
     },
     "metadata": {},
     "output_type": "display_data"
    }
   ],
   "source": [
    "acc = pd.DataFrame({'epoch': [ i + 1 for i in history.epoch ],\n",
    "                    'training': history.history['acc'],\n",
    "                    'validation': history.history['val_acc']})\n",
    "ax = acc.ix[:,:].plot(x='epoch', figsize={5,8}, grid=True)\n",
    "ax.set_ylabel(\"accuracy\")\n",
    "ax.set_ylim([0.0,1.0]);"
   ]
  }
 ],
 "metadata": {
  "hide_input": false,
  "kernelspec": {
   "display_name": "Python 3",
   "language": "python",
   "name": "python3"
  },
  "language_info": {
   "codemirror_mode": {
    "name": "ipython",
    "version": 3
   },
   "file_extension": ".py",
   "mimetype": "text/x-python",
   "name": "python",
   "nbconvert_exporter": "python",
   "pygments_lexer": "ipython3",
   "version": "3.4.3"
  }
 },
 "nbformat": 4,
 "nbformat_minor": 2
}
