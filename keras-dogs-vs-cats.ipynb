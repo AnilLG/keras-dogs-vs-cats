{
 "cells": [
  {
   "cell_type": "code",
   "execution_count": 1,
   "metadata": {
    "collapsed": false
   },
   "outputs": [
    {
     "name": "stderr",
     "output_type": "stream",
     "text": [
      "Using TensorFlow backend.\n"
     ]
    }
   ],
   "source": [
    "%matplotlib inline\n",
    "import pandas as pd\n",
    "from keras.preprocessing.image import ImageDataGenerator\n",
    "from keras.models import Sequential\n",
    "from keras.layers import Convolution2D, MaxPooling2D, Dropout, Flatten, Dense\n",
    "from keras.callbacks import Callback, ModelCheckpoint"
   ]
  },
  {
   "cell_type": "code",
   "execution_count": 2,
   "metadata": {
    "collapsed": true
   },
   "outputs": [],
   "source": [
    "IMG_WIDTH, IMG_HEIGHT = 150, 150\n",
    "TRAIN_DATA_DIR = 'data/train'\n",
    "VALIDATION_DATA_DIR = 'data/validation'\n",
    "MODEL_WEIGHTS_FILE = 'first_try.h5'\n",
    "NB_TRAIN_SAMPLES = 2000\n",
    "NB_VALIDATION_SAMPLES = 800\n",
    "NB_EPOCH = 50"
   ]
  },
  {
   "cell_type": "code",
   "execution_count": 3,
   "metadata": {
    "collapsed": false
   },
   "outputs": [],
   "source": [
    "model = Sequential()\n",
    "model.add(Convolution2D(32, 3, 3, activation='relu', input_shape=(IMG_WIDTH, IMG_HEIGHT, 3)))\n",
    "model.add(MaxPooling2D(pool_size=(2, 2)))\n",
    "model.add(Convolution2D(32, 3, 3, activation='relu'))\n",
    "model.add(MaxPooling2D(pool_size=(2, 2)))\n",
    "model.add(Convolution2D(64, 3, 3, activation='relu'))\n",
    "model.add(MaxPooling2D(pool_size=(2, 2)))\n",
    "model.add(Flatten())\n",
    "model.add(Dense(64, activation='relu'))\n",
    "model.add(Dropout(0.5))\n",
    "model.add(Dense(2, activation='softmax'))"
   ]
  },
  {
   "cell_type": "code",
   "execution_count": 4,
   "metadata": {
    "collapsed": false
   },
   "outputs": [
    {
     "name": "stdout",
     "output_type": "stream",
     "text": [
      "____________________________________________________________________________________________________\n",
      "Layer (type)                     Output Shape          Param #     Connected to                     \n",
      "====================================================================================================\n",
      "convolution2d_1 (Convolution2D)  (None, 148, 148, 32)  896         convolution2d_input_1[0][0]      \n",
      "____________________________________________________________________________________________________\n",
      "maxpooling2d_1 (MaxPooling2D)    (None, 74, 74, 32)    0           convolution2d_1[0][0]            \n",
      "____________________________________________________________________________________________________\n",
      "convolution2d_2 (Convolution2D)  (None, 72, 72, 32)    9248        maxpooling2d_1[0][0]             \n",
      "____________________________________________________________________________________________________\n",
      "maxpooling2d_2 (MaxPooling2D)    (None, 36, 36, 32)    0           convolution2d_2[0][0]            \n",
      "____________________________________________________________________________________________________\n",
      "convolution2d_3 (Convolution2D)  (None, 34, 34, 64)    18496       maxpooling2d_2[0][0]             \n",
      "____________________________________________________________________________________________________\n",
      "maxpooling2d_3 (MaxPooling2D)    (None, 17, 17, 64)    0           convolution2d_3[0][0]            \n",
      "____________________________________________________________________________________________________\n",
      "flatten_1 (Flatten)              (None, 18496)         0           maxpooling2d_3[0][0]             \n",
      "____________________________________________________________________________________________________\n",
      "dense_1 (Dense)                  (None, 64)            1183808     flatten_1[0][0]                  \n",
      "____________________________________________________________________________________________________\n",
      "dropout_1 (Dropout)              (None, 64)            0           dense_1[0][0]                    \n",
      "____________________________________________________________________________________________________\n",
      "dense_2 (Dense)                  (None, 2)             130         dropout_1[0][0]                  \n",
      "====================================================================================================\n",
      "Total params: 1212578\n",
      "____________________________________________________________________________________________________\n"
     ]
    }
   ],
   "source": [
    "model.summary()"
   ]
  },
  {
   "cell_type": "code",
   "execution_count": 5,
   "metadata": {
    "collapsed": true
   },
   "outputs": [],
   "source": [
    "model.compile(loss='categorical_crossentropy',\n",
    "              optimizer='rmsprop',\n",
    "              metrics=['accuracy'])"
   ]
  },
  {
   "cell_type": "code",
   "execution_count": 6,
   "metadata": {
    "collapsed": true
   },
   "outputs": [],
   "source": [
    "# this is the augmentation configuration we will use for training\n",
    "train_datagen = ImageDataGenerator(\n",
    "        rescale=1./255,\n",
    "        shear_range=0.2,\n",
    "        zoom_range=0.2,\n",
    "        horizontal_flip=True)"
   ]
  },
  {
   "cell_type": "code",
   "execution_count": 7,
   "metadata": {
    "collapsed": true
   },
   "outputs": [],
   "source": [
    "test_datagen = ImageDataGenerator(rescale=1./255)"
   ]
  },
  {
   "cell_type": "code",
   "execution_count": 8,
   "metadata": {
    "collapsed": false
   },
   "outputs": [
    {
     "name": "stdout",
     "output_type": "stream",
     "text": [
      "Found 2000 images belonging to 2 classes.\n"
     ]
    }
   ],
   "source": [
    "train_generator = train_datagen.flow_from_directory(\n",
    "        TRAIN_DATA_DIR,\n",
    "        target_size=(IMG_WIDTH, IMG_HEIGHT),\n",
    "        batch_size=32,\n",
    "        class_mode='categorical')"
   ]
  },
  {
   "cell_type": "code",
   "execution_count": 9,
   "metadata": {
    "collapsed": false
   },
   "outputs": [
    {
     "name": "stdout",
     "output_type": "stream",
     "text": [
      "Found 802 images belonging to 2 classes.\n"
     ]
    }
   ],
   "source": [
    "validation_generator = test_datagen.flow_from_directory(\n",
    "        VALIDATION_DATA_DIR,\n",
    "        target_size=(IMG_WIDTH, IMG_HEIGHT),\n",
    "        batch_size=32,\n",
    "        class_mode='categorical')"
   ]
  },
  {
   "cell_type": "code",
   "execution_count": 10,
   "metadata": {
    "collapsed": false,
    "scrolled": false
   },
   "outputs": [
    {
     "name": "stdout",
     "output_type": "stream",
     "text": [
      "Epoch 1/50\n",
      "2000/2000 [==============================] - 19s - loss: 0.6954 - acc: 0.5320 - val_loss: 0.6852 - val_acc: 0.5687\n",
      "Epoch 2/50\n",
      "2000/2000 [==============================] - 16s - loss: 0.6835 - acc: 0.5600 - val_loss: 0.6568 - val_acc: 0.5935\n",
      "Epoch 3/50\n",
      "2000/2000 [==============================] - 16s - loss: 0.6672 - acc: 0.5860 - val_loss: 0.7197 - val_acc: 0.5411\n",
      "Epoch 4/50\n",
      "2000/2000 [==============================] - 16s - loss: 0.6483 - acc: 0.6000 - val_loss: 0.6664 - val_acc: 0.6010\n",
      "Epoch 5/50\n",
      "2000/2000 [==============================] - 17s - loss: 0.6400 - acc: 0.6300 - val_loss: 0.6586 - val_acc: 0.6284\n",
      "Epoch 6/50\n",
      "2000/2000 [==============================] - 16s - loss: 0.6316 - acc: 0.6340 - val_loss: 0.6309 - val_acc: 0.6359\n",
      "Epoch 7/50\n",
      "2000/2000 [==============================] - 16s - loss: 0.6249 - acc: 0.6335 - val_loss: 0.6015 - val_acc: 0.6820\n",
      "Epoch 8/50\n",
      "2000/2000 [==============================] - 16s - loss: 0.6135 - acc: 0.6625 - val_loss: 0.6046 - val_acc: 0.6758\n",
      "Epoch 9/50\n",
      "2000/2000 [==============================] - 16s - loss: 0.5938 - acc: 0.6965 - val_loss: 0.6082 - val_acc: 0.6646\n",
      "Epoch 10/50\n",
      "2000/2000 [==============================] - 16s - loss: 0.5855 - acc: 0.6915 - val_loss: 0.5710 - val_acc: 0.7269\n",
      "Epoch 11/50\n",
      "2000/2000 [==============================] - 16s - loss: 0.5755 - acc: 0.6925 - val_loss: 0.6693 - val_acc: 0.5736\n",
      "Epoch 12/50\n",
      "2000/2000 [==============================] - 16s - loss: 0.5602 - acc: 0.7225 - val_loss: 0.5532 - val_acc: 0.7195\n",
      "Epoch 13/50\n",
      "2000/2000 [==============================] - 16s - loss: 0.5627 - acc: 0.7190 - val_loss: 0.5921 - val_acc: 0.6970\n",
      "Epoch 14/50\n",
      "2000/2000 [==============================] - 17s - loss: 0.5465 - acc: 0.7240 - val_loss: 0.5846 - val_acc: 0.6883\n",
      "Epoch 15/50\n",
      "2000/2000 [==============================] - 16s - loss: 0.5457 - acc: 0.7195 - val_loss: 0.5513 - val_acc: 0.7195\n",
      "Epoch 16/50\n",
      "2000/2000 [==============================] - 16s - loss: 0.5319 - acc: 0.7250 - val_loss: 0.5662 - val_acc: 0.6933\n",
      "Epoch 17/50\n",
      "2000/2000 [==============================] - 17s - loss: 0.5449 - acc: 0.7335 - val_loss: 0.5373 - val_acc: 0.7170\n",
      "Epoch 18/50\n",
      "2000/2000 [==============================] - 16s - loss: 0.5201 - acc: 0.7450 - val_loss: 0.5851 - val_acc: 0.6983\n",
      "Epoch 19/50\n",
      "2000/2000 [==============================] - 16s - loss: 0.5220 - acc: 0.7320 - val_loss: 0.5951 - val_acc: 0.6920\n",
      "Epoch 20/50\n",
      "2000/2000 [==============================] - 16s - loss: 0.5139 - acc: 0.7370 - val_loss: 0.5500 - val_acc: 0.7145\n",
      "Epoch 21/50\n",
      "2000/2000 [==============================] - 16s - loss: 0.5035 - acc: 0.7520 - val_loss: 0.5363 - val_acc: 0.7344\n",
      "Epoch 22/50\n",
      "2000/2000 [==============================] - 16s - loss: 0.4988 - acc: 0.7590 - val_loss: 0.5457 - val_acc: 0.7182\n",
      "Epoch 23/50\n",
      "2000/2000 [==============================] - 17s - loss: 0.4964 - acc: 0.7680 - val_loss: 0.5686 - val_acc: 0.7244\n",
      "Epoch 24/50\n",
      "2000/2000 [==============================] - 16s - loss: 0.5004 - acc: 0.7675 - val_loss: 0.5345 - val_acc: 0.7294\n",
      "Epoch 25/50\n",
      "2000/2000 [==============================] - 16s - loss: 0.4828 - acc: 0.7735 - val_loss: 0.5212 - val_acc: 0.7269\n",
      "Epoch 26/50\n",
      "2000/2000 [==============================] - 16s - loss: 0.4786 - acc: 0.7720 - val_loss: 0.4790 - val_acc: 0.7668\n",
      "Epoch 27/50\n",
      "2000/2000 [==============================] - 17s - loss: 0.4842 - acc: 0.7625 - val_loss: 0.5620 - val_acc: 0.7170\n",
      "Epoch 28/50\n",
      "2000/2000 [==============================] - 16s - loss: 0.4685 - acc: 0.7790 - val_loss: 0.4724 - val_acc: 0.7681\n",
      "Epoch 29/50\n",
      "2000/2000 [==============================] - 16s - loss: 0.4763 - acc: 0.7775 - val_loss: 0.4947 - val_acc: 0.7506\n",
      "Epoch 30/50\n",
      "2000/2000 [==============================] - 16s - loss: 0.4561 - acc: 0.7840 - val_loss: 0.5362 - val_acc: 0.7145\n",
      "Epoch 31/50\n",
      "2000/2000 [==============================] - 16s - loss: 0.4622 - acc: 0.7855 - val_loss: 0.4760 - val_acc: 0.7693\n",
      "Epoch 32/50\n",
      "2000/2000 [==============================] - 16s - loss: 0.4507 - acc: 0.7840 - val_loss: 0.5074 - val_acc: 0.7406\n",
      "Epoch 33/50\n",
      "2000/2000 [==============================] - 16s - loss: 0.4517 - acc: 0.7995 - val_loss: 0.4778 - val_acc: 0.7668\n",
      "Epoch 34/50\n",
      "2000/2000 [==============================] - 16s - loss: 0.4552 - acc: 0.7835 - val_loss: 0.4769 - val_acc: 0.7718\n",
      "Epoch 35/50\n",
      "2000/2000 [==============================] - 16s - loss: 0.4218 - acc: 0.7890 - val_loss: 0.4793 - val_acc: 0.7893\n",
      "Epoch 36/50\n",
      "2000/2000 [==============================] - 16s - loss: 0.4313 - acc: 0.8070 - val_loss: 0.4864 - val_acc: 0.7668\n",
      "Epoch 37/50\n",
      "2000/2000 [==============================] - 16s - loss: 0.4192 - acc: 0.8085 - val_loss: 0.4631 - val_acc: 0.7631\n",
      "Epoch 38/50\n",
      "2000/2000 [==============================] - 16s - loss: 0.4099 - acc: 0.8130 - val_loss: 0.6979 - val_acc: 0.6209\n",
      "Epoch 39/50\n",
      "2000/2000 [==============================] - 17s - loss: 0.4121 - acc: 0.8145 - val_loss: 0.4868 - val_acc: 0.7868\n",
      "Epoch 40/50\n",
      "2000/2000 [==============================] - 16s - loss: 0.4120 - acc: 0.8100 - val_loss: 0.6603 - val_acc: 0.7170\n",
      "Epoch 41/50\n",
      "2000/2000 [==============================] - 16s - loss: 0.4111 - acc: 0.8190 - val_loss: 0.5260 - val_acc: 0.7307\n",
      "Epoch 42/50\n",
      "2000/2000 [==============================] - 16s - loss: 0.3946 - acc: 0.8170 - val_loss: 0.4554 - val_acc: 0.7918\n",
      "Epoch 43/50\n",
      "2000/2000 [==============================] - 16s - loss: 0.4054 - acc: 0.8155 - val_loss: 0.4806 - val_acc: 0.7693\n",
      "Epoch 44/50\n",
      "2000/2000 [==============================] - 17s - loss: 0.4086 - acc: 0.8185 - val_loss: 0.5062 - val_acc: 0.7718\n",
      "Epoch 45/50\n",
      "2000/2000 [==============================] - 16s - loss: 0.3870 - acc: 0.8225 - val_loss: 0.5289 - val_acc: 0.7643\n",
      "Epoch 46/50\n",
      "2000/2000 [==============================] - 16s - loss: 0.3918 - acc: 0.8235 - val_loss: 0.5936 - val_acc: 0.7618\n",
      "Epoch 47/50\n",
      "2000/2000 [==============================] - 16s - loss: 0.3821 - acc: 0.8255 - val_loss: 0.4933 - val_acc: 0.7606\n",
      "Epoch 48/50\n",
      "2000/2000 [==============================] - 16s - loss: 0.3818 - acc: 0.8310 - val_loss: 0.6886 - val_acc: 0.7344\n",
      "Epoch 49/50\n",
      "2000/2000 [==============================] - 16s - loss: 0.3748 - acc: 0.8425 - val_loss: 0.5845 - val_acc: 0.7531\n",
      "Epoch 50/50\n",
      "2000/2000 [==============================] - 16s - loss: 0.3690 - acc: 0.8330 - val_loss: 0.5696 - val_acc: 0.7743\n"
     ]
    }
   ],
   "source": [
    "callbacks = [ModelCheckpoint(MODEL_WEIGHTS_FILE, monitor='val_acc', save_best_only=True)]\n",
    "history = model.fit_generator(\n",
    "        train_generator,\n",
    "        callbacks = callbacks,\n",
    "        samples_per_epoch=NB_TRAIN_SAMPLES,\n",
    "        nb_epoch=NB_EPOCH,\n",
    "        validation_data=validation_generator,\n",
    "        nb_val_samples=NB_VALIDATION_SAMPLES)"
   ]
  },
  {
   "cell_type": "code",
   "execution_count": 11,
   "metadata": {
    "collapsed": false
   },
   "outputs": [
    {
     "data": {
      "image/png": "[encoded data removed]",
      "text/plain": [
       "<matplotlib.figure.Figure at 0x7fe9a407c080>"
      ]
     },
     "metadata": {},
     "output_type": "display_data"
    }
   ],
   "source": [
    "acc = pd.DataFrame({'epoch': [ i + 1 for i in history.epoch ],\n",
    "                    'training': history.history['acc'],\n",
    "                    'validation': history.history['val_acc']})\n",
    "ax = acc.ix[:,:].plot(x='epoch', figsize={5,8}, grid=True)\n",
    "ax.set_ylabel(\"accuracy\")\n",
    "ax.set_ylim([0.0,1.0]);"
   ]
  }
 ],
 "metadata": {
  "hide_input": false,
  "kernelspec": {
   "display_name": "Python 3",
   "language": "python",
   "name": "python3"
  },
  "language_info": {
   "codemirror_mode": {
    "name": "ipython",
    "version": 3
   },
   "file_extension": ".py",
   "mimetype": "text/x-python",
   "name": "python",
   "nbconvert_exporter": "python",
   "pygments_lexer": "ipython3",
   "version": "3.4.3"
  }
 },
 "nbformat": 4,
 "nbformat_minor": 2
}
