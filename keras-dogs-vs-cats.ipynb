{
 "cells": [
  {
   "cell_type": "code",
   "execution_count": 1,
   "metadata": {
    "collapsed": false
   },
   "outputs": [
    {
     "name": "stderr",
     "output_type": "stream",
     "text": [
      "Using TensorFlow backend.\n"
     ]
    }
   ],
   "source": [
    "%matplotlib inline\n",
    "import pandas as pd\n",
    "from keras.preprocessing.image import ImageDataGenerator\n",
    "from keras.models import Sequential\n",
    "from keras.layers import Convolution2D, MaxPooling2D, Dropout, Flatten, Dense\n",
    "from keras.callbacks import Callback, ModelCheckpoint"
   ]
  },
  {
   "cell_type": "code",
   "execution_count": 2,
   "metadata": {
    "collapsed": true
   },
   "outputs": [],
   "source": [
    "IMG_WIDTH, IMG_HEIGHT = 150, 150\n",
    "TRAIN_DATA_DIR = 'data/train'\n",
    "VALIDATION_DATA_DIR = 'data/validation'\n",
    "MODEL_WEIGHTS_FILE = 'first_try.h5'\n",
    "NB_TRAIN_SAMPLES = 2000\n",
    "NB_VALIDATION_SAMPLES = 800\n",
    "NB_EPOCH = 50"
   ]
  },
  {
   "cell_type": "code",
   "execution_count": 3,
   "metadata": {
    "collapsed": false
   },
   "outputs": [],
   "source": [
    "model = Sequential()\n",
    "model.add(Convolution2D(32, 3, 3, activation='relu', input_shape=(3, IMG_WIDTH, IMG_HEIGHT)))\n",
    "model.add(MaxPooling2D(pool_size=(2, 2)))\n",
    "model.add(Convolution2D(32, 3, 3, activation='relu'))\n",
    "model.add(MaxPooling2D(pool_size=(2, 2)))\n",
    "model.add(Convolution2D(64, 3, 3, activation='relu'))\n",
    "model.add(MaxPooling2D(pool_size=(2, 2)))\n",
    "model.add(Flatten())\n",
    "model.add(Dense(64, activation='relu'))\n",
    "model.add(Dropout(0.5))\n",
    "model.add(Dense(2, activation='softmax'))"
   ]
  },
  {
   "cell_type": "code",
   "execution_count": 4,
   "metadata": {
    "collapsed": false
   },
   "outputs": [
    {
     "name": "stdout",
     "output_type": "stream",
     "text": [
      "____________________________________________________________________________________________________\n",
      "Layer (type)                     Output Shape          Param #     Connected to                     \n",
      "====================================================================================================\n",
      "convolution2d_1 (Convolution2D)  (None, 32, 148, 148)  896         convolution2d_input_1[0][0]      \n",
      "____________________________________________________________________________________________________\n",
      "maxpooling2d_1 (MaxPooling2D)    (None, 32, 74, 74)    0           convolution2d_1[0][0]            \n",
      "____________________________________________________________________________________________________\n",
      "convolution2d_2 (Convolution2D)  (None, 32, 72, 72)    9248        maxpooling2d_1[0][0]             \n",
      "____________________________________________________________________________________________________\n",
      "maxpooling2d_2 (MaxPooling2D)    (None, 32, 36, 36)    0           convolution2d_2[0][0]            \n",
      "____________________________________________________________________________________________________\n",
      "convolution2d_3 (Convolution2D)  (None, 64, 34, 34)    18496       maxpooling2d_2[0][0]             \n",
      "____________________________________________________________________________________________________\n",
      "maxpooling2d_3 (MaxPooling2D)    (None, 64, 17, 17)    0           convolution2d_3[0][0]            \n",
      "____________________________________________________________________________________________________\n",
      "flatten_1 (Flatten)              (None, 18496)         0           maxpooling2d_3[0][0]             \n",
      "____________________________________________________________________________________________________\n",
      "dense_1 (Dense)                  (None, 64)            1183808     flatten_1[0][0]                  \n",
      "____________________________________________________________________________________________________\n",
      "dropout_1 (Dropout)              (None, 64)            0           dense_1[0][0]                    \n",
      "____________________________________________________________________________________________________\n",
      "dense_2 (Dense)                  (None, 2)             130         dropout_1[0][0]                  \n",
      "====================================================================================================\n",
      "Total params: 1,212,578\n",
      "Trainable params: 1,212,578\n",
      "Non-trainable params: 0\n",
      "____________________________________________________________________________________________________\n"
     ]
    }
   ],
   "source": [
    "model.summary()"
   ]
  },
  {
   "cell_type": "code",
   "execution_count": 5,
   "metadata": {
    "collapsed": true
   },
   "outputs": [],
   "source": [
    "model.compile(loss='categorical_crossentropy',\n",
    "              optimizer='rmsprop',\n",
    "              metrics=['accuracy'])"
   ]
  },
  {
   "cell_type": "code",
   "execution_count": 6,
   "metadata": {
    "collapsed": true
   },
   "outputs": [],
   "source": [
    "# this is the augmentation configuration we will use for training\n",
    "train_datagen = ImageDataGenerator(\n",
    "        rescale=1./255,\n",
    "        shear_range=0.2,\n",
    "        zoom_range=0.2,\n",
    "        horizontal_flip=True)"
   ]
  },
  {
   "cell_type": "code",
   "execution_count": 7,
   "metadata": {
    "collapsed": true
   },
   "outputs": [],
   "source": [
    "test_datagen = ImageDataGenerator(rescale=1./255)"
   ]
  },
  {
   "cell_type": "code",
   "execution_count": 12,
   "metadata": {
    "collapsed": false
   },
   "outputs": [
    {
     "name": "stdout",
     "output_type": "stream",
     "text": [
      "Found 2000 images belonging to 2 classes.\n"
     ]
    }
   ],
   "source": [
    "train_generator = train_datagen.flow_from_directory(\n",
    "        TRAIN_DATA_DIR,\n",
    "        target_size=(IMG_WIDTH, IMG_HEIGHT),\n",
    "        batch_size=32,\n",
    "        class_mode='categorical')"
   ]
  },
  {
   "cell_type": "code",
   "execution_count": 13,
   "metadata": {
    "collapsed": false
   },
   "outputs": [
    {
     "name": "stdout",
     "output_type": "stream",
     "text": [
      "Found 802 images belonging to 2 classes.\n"
     ]
    }
   ],
   "source": [
    "validation_generator = test_datagen.flow_from_directory(\n",
    "        VALIDATION_DATA_DIR,\n",
    "        target_size=(IMG_WIDTH, IMG_HEIGHT),\n",
    "        batch_size=32,\n",
    "        class_mode='categorical')"
   ]
  },
  {
   "cell_type": "code",
   "execution_count": 14,
   "metadata": {
    "collapsed": false,
    "scrolled": false
   },
   "outputs": [
    {
     "name": "stdout",
     "output_type": "stream",
     "text": [
      "Epoch 1/50\n",
      "2000/2000 [==============================] - 330s - loss: 0.7102 - acc: 0.4975 - val_loss: 0.8918 - val_acc: 0.5000\n",
      "Epoch 2/50\n",
      "2000/2000 [==============================] - 325s - loss: 0.6879 - acc: 0.5535 - val_loss: 0.6500 - val_acc: 0.6122\n",
      "Epoch 3/50\n",
      "2000/2000 [==============================] - 325s - loss: 0.6587 - acc: 0.6115 - val_loss: 0.6347 - val_acc: 0.6309\n",
      "Epoch 4/50\n",
      "2000/2000 [==============================] - 325s - loss: 0.6265 - acc: 0.6450 - val_loss: 0.6126 - val_acc: 0.6746\n",
      "Epoch 5/50\n",
      "2000/2000 [==============================] - 324s - loss: 0.5958 - acc: 0.6820 - val_loss: 0.7780 - val_acc: 0.5810\n",
      "Epoch 6/50\n",
      "2000/2000 [==============================] - 324s - loss: 0.5912 - acc: 0.6820 - val_loss: 0.6285 - val_acc: 0.5823\n",
      "Epoch 7/50\n",
      "2000/2000 [==============================] - 325s - loss: 0.5766 - acc: 0.7090 - val_loss: 0.5527 - val_acc: 0.7182\n",
      "Epoch 8/50\n",
      "2000/2000 [==============================] - 325s - loss: 0.5595 - acc: 0.7150 - val_loss: 0.5540 - val_acc: 0.6995\n",
      "Epoch 9/50\n",
      "2000/2000 [==============================] - 325s - loss: 0.5449 - acc: 0.7305 - val_loss: 0.5739 - val_acc: 0.6870\n",
      "Epoch 10/50\n",
      "2000/2000 [==============================] - 325s - loss: 0.5458 - acc: 0.7270 - val_loss: 0.5750 - val_acc: 0.7070\n",
      "Epoch 11/50\n",
      "2000/2000 [==============================] - 325s - loss: 0.5360 - acc: 0.7370 - val_loss: 0.5392 - val_acc: 0.7195\n",
      "Epoch 12/50\n",
      "2000/2000 [==============================] - 325s - loss: 0.5341 - acc: 0.7260 - val_loss: 0.5289 - val_acc: 0.7244\n",
      "Epoch 13/50\n",
      "2000/2000 [==============================] - 325s - loss: 0.5096 - acc: 0.7490 - val_loss: 0.6682 - val_acc: 0.6958\n",
      "Epoch 14/50\n",
      "2000/2000 [==============================] - 325s - loss: 0.5140 - acc: 0.7470 - val_loss: 0.5301 - val_acc: 0.7170\n",
      "Epoch 15/50\n",
      "2000/2000 [==============================] - 325s - loss: 0.4969 - acc: 0.7640 - val_loss: 0.5813 - val_acc: 0.7469\n",
      "Epoch 16/50\n",
      "2000/2000 [==============================] - 325s - loss: 0.4927 - acc: 0.7590 - val_loss: 0.5200 - val_acc: 0.7406\n",
      "Epoch 17/50\n",
      "2000/2000 [==============================] - 325s - loss: 0.4798 - acc: 0.7730 - val_loss: 0.4940 - val_acc: 0.7544\n",
      "Epoch 18/50\n",
      "2000/2000 [==============================] - 325s - loss: 0.4840 - acc: 0.7735 - val_loss: 0.5652 - val_acc: 0.7132\n",
      "Epoch 19/50\n",
      "2000/2000 [==============================] - 325s - loss: 0.4651 - acc: 0.7915 - val_loss: 0.5106 - val_acc: 0.7569\n",
      "Epoch 20/50\n",
      "2000/2000 [==============================] - 325s - loss: 0.4636 - acc: 0.7780 - val_loss: 0.4946 - val_acc: 0.7506\n",
      "Epoch 21/50\n",
      "2000/2000 [==============================] - 325s - loss: 0.4424 - acc: 0.7895 - val_loss: 0.5494 - val_acc: 0.7581\n",
      "Epoch 22/50\n",
      "2000/2000 [==============================] - 325s - loss: 0.4330 - acc: 0.7980 - val_loss: 0.5575 - val_acc: 0.7406\n",
      "Epoch 23/50\n",
      "2000/2000 [==============================] - 325s - loss: 0.4346 - acc: 0.8040 - val_loss: 0.5226 - val_acc: 0.7219\n",
      "Epoch 24/50\n",
      "2000/2000 [==============================] - 325s - loss: 0.4401 - acc: 0.8035 - val_loss: 0.4908 - val_acc: 0.7643\n",
      "Epoch 25/50\n",
      "2000/2000 [==============================] - 325s - loss: 0.4198 - acc: 0.8035 - val_loss: 0.5737 - val_acc: 0.7531\n",
      "Epoch 26/50\n",
      "2000/2000 [==============================] - 325s - loss: 0.4271 - acc: 0.8040 - val_loss: 0.5035 - val_acc: 0.7519\n",
      "Epoch 27/50\n",
      "2000/2000 [==============================] - 325s - loss: 0.4247 - acc: 0.8060 - val_loss: 0.5404 - val_acc: 0.7631\n",
      "Epoch 28/50\n",
      "2000/2000 [==============================] - 325s - loss: 0.4131 - acc: 0.8135 - val_loss: 0.4308 - val_acc: 0.7980\n",
      "Epoch 29/50\n",
      "2000/2000 [==============================] - 325s - loss: 0.4059 - acc: 0.8150 - val_loss: 0.5053 - val_acc: 0.7980\n",
      "Epoch 30/50\n",
      "2000/2000 [==============================] - 325s - loss: 0.3990 - acc: 0.8285 - val_loss: 0.4938 - val_acc: 0.7855\n",
      "Epoch 31/50\n",
      "2000/2000 [==============================] - 325s - loss: 0.3783 - acc: 0.8345 - val_loss: 0.4539 - val_acc: 0.7968\n",
      "Epoch 32/50\n",
      "2000/2000 [==============================] - 325s - loss: 0.4038 - acc: 0.8210 - val_loss: 0.4993 - val_acc: 0.7544\n",
      "Epoch 33/50\n",
      "2000/2000 [==============================] - 325s - loss: 0.3870 - acc: 0.8240 - val_loss: 0.5490 - val_acc: 0.7643\n",
      "Epoch 34/50\n",
      "2000/2000 [==============================] - 326s - loss: 0.3757 - acc: 0.8260 - val_loss: 0.6470 - val_acc: 0.7693\n",
      "Epoch 35/50\n",
      "2000/2000 [==============================] - 326s - loss: 0.3858 - acc: 0.8260 - val_loss: 0.5003 - val_acc: 0.7643\n",
      "Epoch 36/50\n",
      "2000/2000 [==============================] - 326s - loss: 0.3633 - acc: 0.8345 - val_loss: 0.6823 - val_acc: 0.7357\n",
      "Epoch 37/50\n",
      "2000/2000 [==============================] - 326s - loss: 0.3920 - acc: 0.8375 - val_loss: 0.5282 - val_acc: 0.7431\n",
      "Epoch 38/50\n",
      "2000/2000 [==============================] - 344s - loss: 0.3932 - acc: 0.8345 - val_loss: 0.4638 - val_acc: 0.8105\n",
      "Epoch 39/50\n",
      "2000/2000 [==============================] - 324s - loss: 0.3592 - acc: 0.8500 - val_loss: 0.5049 - val_acc: 0.7905\n",
      "Epoch 40/50\n",
      "2000/2000 [==============================] - 324s - loss: 0.3630 - acc: 0.8405 - val_loss: 0.5360 - val_acc: 0.7456\n",
      "Epoch 41/50\n",
      "2000/2000 [==============================] - 324s - loss: 0.3596 - acc: 0.8420 - val_loss: 0.4292 - val_acc: 0.8155\n",
      "Epoch 42/50\n",
      "2000/2000 [==============================] - 324s - loss: 0.3591 - acc: 0.8505 - val_loss: 0.5857 - val_acc: 0.7618\n",
      "Epoch 43/50\n",
      "2000/2000 [==============================] - 324s - loss: 0.3633 - acc: 0.8440 - val_loss: 0.5583 - val_acc: 0.7643\n",
      "Epoch 44/50\n",
      "2000/2000 [==============================] - 324s - loss: 0.3471 - acc: 0.8580 - val_loss: 0.5712 - val_acc: 0.7793\n",
      "Epoch 45/50\n",
      "2000/2000 [==============================] - 324s - loss: 0.3674 - acc: 0.8385 - val_loss: 0.5542 - val_acc: 0.7955\n",
      "Epoch 46/50\n",
      "2000/2000 [==============================] - 324s - loss: 0.3456 - acc: 0.8405 - val_loss: 0.5879 - val_acc: 0.7519\n",
      "Epoch 47/50\n",
      "2000/2000 [==============================] - 324s - loss: 0.3473 - acc: 0.8555 - val_loss: 0.5497 - val_acc: 0.8017\n",
      "Epoch 48/50\n",
      "2000/2000 [==============================] - 324s - loss: 0.3476 - acc: 0.8500 - val_loss: 0.5255 - val_acc: 0.7805\n",
      "Epoch 49/50\n",
      "2000/2000 [==============================] - 324s - loss: 0.3471 - acc: 0.8445 - val_loss: 0.5021 - val_acc: 0.7905\n",
      "Epoch 50/50\n",
      "2000/2000 [==============================] - 324s - loss: 0.3442 - acc: 0.8500 - val_loss: 0.5776 - val_acc: 0.8067\n"
     ]
    }
   ],
   "source": [
    "callbacks = [ModelCheckpoint(MODEL_WEIGHTS_FILE, monitor='val_acc', save_best_only=True)]\n",
    "history = model.fit_generator(\n",
    "        train_generator,\n",
    "        callbacks = callbacks,\n",
    "        samples_per_epoch=NB_TRAIN_SAMPLES,\n",
    "        nb_epoch=NB_EPOCH,\n",
    "        validation_data=validation_generator,\n",
    "        nb_val_samples=NB_VALIDATION_SAMPLES)"
   ]
  },
  {
   "cell_type": "code",
   "execution_count": 15,
   "metadata": {
    "collapsed": false
   },
   "outputs": [
    {
     "data": {
      "image/png": "[encoded data removed]",
      "text/plain": [
       "<matplotlib.figure.Figure at 0x7f66b1df4d30>"
      ]
     },
     "metadata": {},
     "output_type": "display_data"
    }
   ],
   "source": [
    "acc = pd.DataFrame({'epoch': [ i + 1 for i in history.epoch ],\n",
    "                    'training': history.history['acc'],\n",
    "                    'validation': history.history['val_acc']})\n",
    "ax = acc.ix[:,:].plot(x='epoch', figsize={5,8}, grid=True)\n",
    "ax.set_ylabel(\"accuracy\")\n",
    "ax.set_ylim([0.0,1.0]);"
   ]
  }
 ],
 "metadata": {
  "hide_input": false,
  "kernelspec": {
   "display_name": "Python 3",
   "language": "python",
   "name": "python3"
  },
  "language_info": {
   "codemirror_mode": {
    "name": "ipython",
    "version": 3
   },
   "file_extension": ".py",
   "mimetype": "text/x-python",
   "name": "python",
   "nbconvert_exporter": "python",
   "pygments_lexer": "ipython3",
   "version": "3.4.3"
  }
 },
 "nbformat": 4,
 "nbformat_minor": 2
}
