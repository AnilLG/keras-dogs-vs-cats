{
 "cells": [
  {
   "cell_type": "code",
   "execution_count": 1,
   "metadata": {
    "collapsed": false
   },
   "outputs": [
    {
     "name": "stderr",
     "output_type": "stream",
     "text": [
      "Using TensorFlow backend.\n"
     ]
    }
   ],
   "source": [
    "%matplotlib inline\n",
    "import numpy as np\n",
    "import pandas as pd\n",
    "from pathlib import Path\n",
    "from keras.preprocessing.image import ImageDataGenerator\n",
    "from keras.models import Model\n",
    "from keras.layers import Input, Flatten, Dense, Dropout\n",
    "from keras.callbacks import Callback, ModelCheckpoint\n",
    "from keras.applications.vgg16 import VGG16\n",
    "from keras.preprocessing import image\n",
    "from keras.applications.vgg16 import preprocess_input"
   ]
  },
  {
   "cell_type": "code",
   "execution_count": 2,
   "metadata": {
    "collapsed": true
   },
   "outputs": [],
   "source": [
    "IMG_WIDTH, IMG_HEIGHT = 150, 150\n",
    "TRAIN_DATA_DIR = 'data/train'\n",
    "VALIDATION_DATA_DIR = 'data/validation'\n",
    "BOTTLENECK_FEATURES_TRAIN_FILE = 'bottleneck_features_train.npy'\n",
    "BOTTLENECK_FEATURES_VALIDATION_FILE = 'bottleneck_features_validation.npy'\n",
    "MODEL_WEIGHTS_FILE = 'vgg16-xfer-cached-weights.h5'\n",
    "NB_TRAIN_SAMPLES = 2000\n",
    "NB_VALIDATION_SAMPLES = 800\n",
    "NB_EPOCH = 50"
   ]
  },
  {
   "cell_type": "code",
   "execution_count": 3,
   "metadata": {
    "collapsed": false
   },
   "outputs": [],
   "source": [
    "model_vgg16_conv = VGG16(weights='imagenet', include_top=False)"
   ]
  },
  {
   "cell_type": "code",
   "execution_count": 4,
   "metadata": {
    "collapsed": true
   },
   "outputs": [],
   "source": [
    "datagen = ImageDataGenerator(rescale=1./255)"
   ]
  },
  {
   "cell_type": "code",
   "execution_count": 5,
   "metadata": {
    "collapsed": false
   },
   "outputs": [],
   "source": [
    "if Path(BOTTLENECK_FEATURES_TRAIN_FILE):\n",
    "    bottleneck_features_train = np.load(open(BOTTLENECK_FEATURES_TRAIN_FILE, 'rb'))\n",
    "else:\n",
    "    generator = datagen.flow_from_directory(\n",
    "        'data/train',\n",
    "        target_size=(150, 150),\n",
    "        batch_size=32,\n",
    "        class_mode=None,\n",
    "        shuffle=False)  \n",
    "    bottleneck_features_train = model_vgg16_conv.predict_generator(generator, 2000)\n",
    "    np.save(open(BOTTLENECK_FEATURES_TRAIN_FILE, 'wb'), bottleneck_features_train)"
   ]
  },
  {
   "cell_type": "code",
   "execution_count": 6,
   "metadata": {
    "collapsed": false
   },
   "outputs": [],
   "source": [
    "if Path(BOTTLENECK_FEATURES_VALIDATION_FILE):\n",
    "    bottleneck_features_train = np.load(open(BOTTLENECK_FEATURES_VALIDATION_FILE, 'rb'))\n",
    "else:\n",
    "    generator = datagen.flow_from_directory(\n",
    "        'data/validation',\n",
    "        target_size=(150, 150),\n",
    "        batch_size=32,\n",
    "        class_mode=None,\n",
    "        shuffle=False)\n",
    "    bottleneck_features_validation = model_vgg16_conv.predict_generator(generator, 800)\n",
    "    np.save(open(BOTTLENECK_FEATURES_VALIDATION_FILE, 'wb'), bottleneck_features_validation)"
   ]
  },
  {
   "cell_type": "code",
   "execution_count": 7,
   "metadata": {
    "collapsed": false
   },
   "outputs": [],
   "source": [
    "train_data = np.load(open(BOTTLENECK_FEATURES_TRAIN_FILE, 'rb'))\n",
    "train_labels = np.array([1] * (NB_TRAIN_SAMPLES // 2) + [0] * (NB_TRAIN_SAMPLES // 2))\n",
    "validation_data = np.load(open(BOTTLENECK_FEATURES_VALIDATION_FILE, 'rb'))\n",
    "validation_labels = np.array([1] * (NB_VALIDATION_SAMPLES // 2) + [0] * (NB_VALIDATION_SAMPLES // 2))"
   ]
  },
  {
   "cell_type": "code",
   "execution_count": 8,
   "metadata": {
    "collapsed": false
   },
   "outputs": [],
   "source": [
    "input = Input(shape=train_data.shape[1:])\n",
    "x = Flatten(input_shape=train_data.shape[1:])(input)\n",
    "x = Dense(256, activation='relu')(x)\n",
    "x = Dropout(0.5)(x)\n",
    "x = Dense(1, activation='sigmoid')(x)\n",
    "model = Model(input=input, output=x)"
   ]
  },
  {
   "cell_type": "code",
   "execution_count": 9,
   "metadata": {
    "collapsed": true
   },
   "outputs": [],
   "source": [
    "model.compile(loss='binary_crossentropy',\n",
    "              optimizer='rmsprop',\n",
    "              metrics=['accuracy'])"
   ]
  },
  {
   "cell_type": "code",
   "execution_count": 10,
   "metadata": {
    "collapsed": false,
    "scrolled": false
   },
   "outputs": [
    {
     "name": "stdout",
     "output_type": "stream",
     "text": [
      "Train on 2000 samples, validate on 800 samples\n",
      "Epoch 1/50\n",
      "3s - loss: 1.0067 - acc: 0.7065 - val_loss: 0.3321 - val_acc: 0.8450\n",
      "Epoch 2/50\n",
      "4s - loss: 0.3758 - acc: 0.8345 - val_loss: 0.2976 - val_acc: 0.8762\n",
      "Epoch 3/50\n",
      "3s - loss: 0.3424 - acc: 0.8590 - val_loss: 0.3004 - val_acc: 0.8700\n",
      "Epoch 4/50\n",
      "3s - loss: 0.2810 - acc: 0.8800 - val_loss: 0.2747 - val_acc: 0.8812\n",
      "Epoch 5/50\n",
      "3s - loss: 0.2366 - acc: 0.9030 - val_loss: 0.3820 - val_acc: 0.8662\n",
      "Epoch 6/50\n",
      "3s - loss: 0.2228 - acc: 0.9095 - val_loss: 0.3799 - val_acc: 0.8750\n",
      "Epoch 7/50\n",
      "3s - loss: 0.1803 - acc: 0.9270 - val_loss: 0.3256 - val_acc: 0.8838\n",
      "Epoch 8/50\n",
      "3s - loss: 0.1802 - acc: 0.9340 - val_loss: 0.2677 - val_acc: 0.8925\n",
      "Epoch 9/50\n",
      "3s - loss: 0.1433 - acc: 0.9480 - val_loss: 0.2908 - val_acc: 0.8975\n",
      "Epoch 10/50\n",
      "3s - loss: 0.1063 - acc: 0.9530 - val_loss: 0.3281 - val_acc: 0.8888\n",
      "Epoch 11/50\n",
      "3s - loss: 0.1330 - acc: 0.9515 - val_loss: 0.4315 - val_acc: 0.8662\n",
      "Epoch 12/50\n",
      "3s - loss: 0.1033 - acc: 0.9545 - val_loss: 0.6698 - val_acc: 0.8325\n",
      "Epoch 13/50\n",
      "3s - loss: 0.1078 - acc: 0.9555 - val_loss: 0.3745 - val_acc: 0.8875\n",
      "Epoch 14/50\n",
      "3s - loss: 0.0762 - acc: 0.9725 - val_loss: 0.3968 - val_acc: 0.8838\n",
      "Epoch 15/50\n",
      "3s - loss: 0.0620 - acc: 0.9760 - val_loss: 0.3921 - val_acc: 0.8912\n",
      "Epoch 16/50\n",
      "3s - loss: 0.0638 - acc: 0.9770 - val_loss: 0.4262 - val_acc: 0.8938\n",
      "Epoch 17/50\n",
      "3s - loss: 0.0773 - acc: 0.9740 - val_loss: 0.5620 - val_acc: 0.8588\n",
      "Epoch 18/50\n",
      "3s - loss: 0.0655 - acc: 0.9760 - val_loss: 0.4096 - val_acc: 0.8988\n",
      "Epoch 19/50\n",
      "3s - loss: 0.0478 - acc: 0.9825 - val_loss: 0.6866 - val_acc: 0.8612\n",
      "Epoch 20/50\n",
      "3s - loss: 0.0580 - acc: 0.9840 - val_loss: 0.4708 - val_acc: 0.8838\n",
      "Epoch 21/50\n",
      "3s - loss: 0.0378 - acc: 0.9850 - val_loss: 0.4872 - val_acc: 0.8838\n",
      "Epoch 22/50\n",
      "3s - loss: 0.0286 - acc: 0.9890 - val_loss: 0.4831 - val_acc: 0.8888\n",
      "Epoch 23/50\n",
      "3s - loss: 0.0359 - acc: 0.9870 - val_loss: 0.4801 - val_acc: 0.9038\n",
      "Epoch 24/50\n",
      "3s - loss: 0.0389 - acc: 0.9865 - val_loss: 0.4944 - val_acc: 0.8925\n",
      "Epoch 25/50\n",
      "3s - loss: 0.0243 - acc: 0.9895 - val_loss: 0.5216 - val_acc: 0.8900\n",
      "Epoch 26/50\n",
      "3s - loss: 0.0286 - acc: 0.9890 - val_loss: 0.5115 - val_acc: 0.8962\n",
      "Epoch 27/50\n",
      "3s - loss: 0.0227 - acc: 0.9930 - val_loss: 0.9201 - val_acc: 0.8612\n",
      "Epoch 28/50\n",
      "3s - loss: 0.0398 - acc: 0.9860 - val_loss: 0.5404 - val_acc: 0.8938\n",
      "Epoch 29/50\n",
      "3s - loss: 0.0120 - acc: 0.9950 - val_loss: 0.5883 - val_acc: 0.8950\n",
      "Epoch 30/50\n",
      "3s - loss: 0.0168 - acc: 0.9960 - val_loss: 0.5939 - val_acc: 0.8975\n",
      "Epoch 31/50\n",
      "3s - loss: 0.0316 - acc: 0.9900 - val_loss: 0.5997 - val_acc: 0.8975\n",
      "Epoch 32/50\n",
      "3s - loss: 0.0219 - acc: 0.9910 - val_loss: 0.6898 - val_acc: 0.8975\n",
      "Epoch 33/50\n",
      "3s - loss: 0.0302 - acc: 0.9915 - val_loss: 0.6212 - val_acc: 0.8838\n",
      "Epoch 34/50\n",
      "3s - loss: 0.0178 - acc: 0.9950 - val_loss: 0.6701 - val_acc: 0.8800\n",
      "Epoch 35/50\n",
      "3s - loss: 0.0272 - acc: 0.9945 - val_loss: 0.6176 - val_acc: 0.8988\n",
      "Epoch 36/50\n",
      "3s - loss: 0.0067 - acc: 0.9980 - val_loss: 0.6942 - val_acc: 0.8775\n",
      "Epoch 37/50\n",
      "3s - loss: 0.0195 - acc: 0.9930 - val_loss: 0.7314 - val_acc: 0.8775\n",
      "Epoch 38/50\n",
      "3s - loss: 0.0117 - acc: 0.9965 - val_loss: 0.8109 - val_acc: 0.8800\n",
      "Epoch 39/50\n",
      "3s - loss: 0.0106 - acc: 0.9955 - val_loss: 0.6746 - val_acc: 0.8962\n",
      "Epoch 40/50\n",
      "3s - loss: 0.0152 - acc: 0.9955 - val_loss: 0.7241 - val_acc: 0.8825\n",
      "Epoch 41/50\n",
      "3s - loss: 0.0110 - acc: 0.9950 - val_loss: 0.7035 - val_acc: 0.8950\n",
      "Epoch 42/50\n",
      "3s - loss: 0.0177 - acc: 0.9950 - val_loss: 0.6805 - val_acc: 0.8925\n",
      "Epoch 43/50\n",
      "3s - loss: 0.0074 - acc: 0.9970 - val_loss: 0.6929 - val_acc: 0.8925\n",
      "Epoch 44/50\n",
      "3s - loss: 0.0128 - acc: 0.9955 - val_loss: 0.6921 - val_acc: 0.8900\n",
      "Epoch 45/50\n",
      "3s - loss: 0.0358 - acc: 0.9920 - val_loss: 0.6812 - val_acc: 0.8762\n",
      "Epoch 46/50\n",
      "3s - loss: 0.0022 - acc: 0.9995 - val_loss: 0.7045 - val_acc: 0.8862\n",
      "Epoch 47/50\n",
      "3s - loss: 0.0147 - acc: 0.9940 - val_loss: 0.7347 - val_acc: 0.8812\n",
      "Epoch 48/50\n",
      "3s - loss: 0.0082 - acc: 0.9965 - val_loss: 0.7381 - val_acc: 0.8950\n",
      "Epoch 49/50\n",
      "3s - loss: 0.0032 - acc: 0.9990 - val_loss: 0.8465 - val_acc: 0.8800\n",
      "Epoch 50/50\n",
      "3s - loss: 0.0125 - acc: 0.9960 - val_loss: 0.7328 - val_acc: 0.8838\n",
      "CPU times: user 6min 16s, sys: 1min 12s, total: 7min 28s\n",
      "Wall time: 2min 55s\n"
     ]
    }
   ],
   "source": [
    "callbacks = [ModelCheckpoint(MODEL_WEIGHTS_FILE, monitor='val_acc', save_best_only=True)]\n",
    "%time history = model.fit(train_data, train_labels, verbose=2, nb_epoch=NB_EPOCH, batch_size=32, validation_data=(validation_data, validation_labels))"
   ]
  },
  {
   "cell_type": "code",
   "execution_count": 11,
   "metadata": {
    "collapsed": false
   },
   "outputs": [
    {
     "data": {
      "image/png": "[encoded data removed]",
      "text/plain": [
       "<matplotlib.figure.Figure at 0x119909898>"
      ]
     },
     "metadata": {},
     "output_type": "display_data"
    }
   ],
   "source": [
    "acc = pd.DataFrame({'epoch': [ i + 1 for i in history.epoch ],\n",
    "                    'training': history.history['acc'],\n",
    "                    'validation': history.history['val_acc']})\n",
    "ax = acc.ix[:,:].plot(x='epoch', figsize={5,8}, grid=True)\n",
    "ax.set_ylabel(\"accuracy\")\n",
    "ax.set_ylim([0.7,1.0]);"
   ]
  },
  {
   "cell_type": "code",
   "execution_count": 12,
   "metadata": {
    "collapsed": false
   },
   "outputs": [
    {
     "name": "stdout",
     "output_type": "stream",
     "text": [
      "Maximum accuracy at epoch 23 = 0.9038\n"
     ]
    }
   ],
   "source": [
    "max_val_acc, idx = max((val, idx) for (idx, val) in enumerate(history.history['val_acc']))\n",
    "print('Maximum accuracy at epoch', '{:d}'.format(idx+1), '=', '{:.4f}'.format(max_val_acc))"
   ]
  }
 ],
 "metadata": {
  "anaconda-cloud": {},
  "hide_input": false,
  "kernelspec": {
   "display_name": "Python 3",
   "language": "python",
   "name": "python3"
  },
  "language_info": {
   "codemirror_mode": {
    "name": "ipython",
    "version": 3
   },
   "file_extension": ".py",
   "mimetype": "text/x-python",
   "name": "python",
   "nbconvert_exporter": "python",
   "pygments_lexer": "ipython3",
   "version": "3.5.2"
  }
 },
 "nbformat": 4,
 "nbformat_minor": 2
}
